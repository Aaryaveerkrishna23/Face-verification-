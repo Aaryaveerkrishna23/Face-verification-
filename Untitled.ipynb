{
 "cells": [
  {
   "cell_type": "code",
   "execution_count": 12,
   "id": "24799728",
   "metadata": {},
   "outputs": [],
   "source": [
    "import cv2\n",
    "import matplotlib.pyplot as plt\n",
    "\n",
    "\n",
    "cascade_classifier = cv2.CascadeClassifier('haarcascade_frontalface_alt.xml')\n",
    "\n",
    "video_capture = cv2.VideoCapture(0)\n",
    "\n",
    "video_capture.set(3,840)\n",
    "video_capture.set(4,680)\n",
    "\n",
    "\n",
    "while True:\n",
    "    ret,img = video_capture.read()\n",
    "    gray_image = cv2.cvtColor(img,cv2.COLOR_BGR2GRAY)\n",
    "    face_look = cascade_classifier.detectMultiScale(img,scaleFactor=1.1, minNeighbors=5, minSize=(30, 30))\n",
    "    for (x, y, width, height) in face_look:\n",
    "        cv2.rectangle(img,(x,y),(x+width,y+height),(0,0,255),10)\n",
    "    cv2.imshow('Live Detection',img)\n",
    "    key = cv2.waitKey(30) & 0xff\n",
    "\n",
    "    if key == 27:\n",
    "        break\n",
    "video_capture.release()\n",
    "cv2.destroyAllWindows()\n"
   ]
  },
  {
   "cell_type": "code",
   "execution_count": 13,
   "id": "046a5c82",
   "metadata": {},
   "outputs": [],
   "source": [
    "from PIL import Image\n",
    "im = Image.fromarray(img)\n",
    "im.save(\"me.jpg\")"
   ]
  },
  {
   "cell_type": "code",
   "execution_count": 14,
   "id": "9c733deb",
   "metadata": {},
   "outputs": [],
   "source": [
    "import cv2\n",
    "import matplotlib.pyplot as plt\n",
    "\n",
    "\n",
    "cascade_classifier1 = cv2.CascadeClassifier('haarcascade_frontalface_alt.xml')\n",
    "\n",
    "video_capture1 = cv2.VideoCapture(0)\n",
    "\n",
    "video_capture1.set(3,840)\n",
    "video_capture1.set(4,680)\n",
    "\n",
    "\n",
    "while True:\n",
    "    ret,img1 = video_capture1.read()\n",
    "    gray_image = cv2.cvtColor(img1,cv2.COLOR_BGR2GRAY)\n",
    "    face_look = cascade_classifier1.detectMultiScale(img1,scaleFactor=1.1, minNeighbors=5, minSize=(30, 30))\n",
    "    for (x, y, width, height) in face_look:\n",
    "        cv2.rectangle(img1,(x,y),(x+width,y+height),(0,0,255),10)\n",
    "    cv2.imshow('Live Detection',img1)\n",
    "    key = cv2.waitKey(30) & 0xff\n",
    "\n",
    "    if key == 27:\n",
    "        break\n",
    "video_capture1.release()\n",
    "cv2.destroyAllWindows()\n"
   ]
  },
  {
   "cell_type": "code",
   "execution_count": 15,
   "id": "7a6f4d40",
   "metadata": {},
   "outputs": [],
   "source": [
    "frame3 = img[y:y+height,x:x+width]"
   ]
  },
  {
   "cell_type": "code",
   "execution_count": 16,
   "id": "9b9dabe4",
   "metadata": {},
   "outputs": [],
   "source": [
    "frame4 = img1[y:y+height,x:x+width]"
   ]
  },
  {
   "cell_type": "code",
   "execution_count": 17,
   "id": "5dc65529",
   "metadata": {},
   "outputs": [],
   "source": [
    "im = Image.fromarray(frame3)\n",
    "im.save(\"me3.jpg\")\n",
    "im = Image.fromarray(frame4)\n",
    "im.save(\"me2.jpg\")"
   ]
  },
  {
   "cell_type": "code",
   "execution_count": 18,
   "id": "c06d1978",
   "metadata": {},
   "outputs": [],
   "source": [
    "import numpy as np\n",
    "registered_faces = []\n",
    "new_faces = []\n",
    "for v in np.nditer(frame3):\n",
    "    registered_faces.append(v)\n",
    "for w in np.nditer(frame3):\n",
    "    registered_faces.append(w)"
   ]
  },
  {
   "cell_type": "code",
   "execution_count": 19,
   "id": "49d023bf",
   "metadata": {},
   "outputs": [],
   "source": [
    "if(len(registered_faces)>=len(new_faces)):\n",
    "    leng = len(new_faces)\n",
    "else:\n",
    "    leng = len(registered_faces)\n",
    "    "
   ]
  },
  {
   "cell_type": "code",
   "execution_count": 22,
   "id": "2fa16a04",
   "metadata": {},
   "outputs": [],
   "source": [
    "q= 0\n",
    "for i in range(leng):\n",
    "    registered_faces[i]=(registered_faces[i]/10).astype(int)\n",
    "    new_faces[i]=(new_faces[i]/10).astype(int)\n",
    "    if registered_faces[i]==new_faces[i]:\n",
    "        q=q+1"
   ]
  },
  {
   "cell_type": "code",
   "execution_count": 21,
   "id": "09954f7c",
   "metadata": {},
   "outputs": [
    {
     "ename": "ZeroDivisionError",
     "evalue": "division by zero",
     "output_type": "error",
     "traceback": [
      "\u001b[1;31m---------------------------------------------------------------------------\u001b[0m",
      "\u001b[1;31mZeroDivisionError\u001b[0m                         Traceback (most recent call last)",
      "Input \u001b[1;32mIn [21]\u001b[0m, in \u001b[0;36m<cell line: 1>\u001b[1;34m()\u001b[0m\n\u001b[1;32m----> 1\u001b[0m \u001b[43mq\u001b[49m\u001b[38;5;241;43m/\u001b[39;49m\u001b[43mleng\u001b[49m\n",
      "\u001b[1;31mZeroDivisionError\u001b[0m: division by zero"
     ]
    }
   ],
   "source": [
    "q/leng"
   ]
  }
 ],
 "metadata": {
  "kernelspec": {
   "display_name": "Python 3 (ipykernel)",
   "language": "python",
   "name": "python3"
  },
  "language_info": {
   "codemirror_mode": {
    "name": "ipython",
    "version": 3
   },
   "file_extension": ".py",
   "mimetype": "text/x-python",
   "name": "python",
   "nbconvert_exporter": "python",
   "pygments_lexer": "ipython3",
   "version": "3.10.2"
  }
 },
 "nbformat": 4,
 "nbformat_minor": 5
}
